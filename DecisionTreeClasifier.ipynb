{
 "cells": [
  {
   "cell_type": "code",
   "execution_count": 20,
   "id": "e43a772c",
   "metadata": {},
   "outputs": [],
   "source": [
    "import numpy as np\n",
    "import math"
   ]
  },
  {
   "cell_type": "code",
   "execution_count": 21,
   "id": "cb38749e",
   "metadata": {},
   "outputs": [],
   "source": [
    "def gini(counts):\n",
    "    \"\"\" Calculates Gini Impurity \n",
    "    \n",
    "        Args:\n",
    "            counts: The number of samples in each class.\n",
    "    \"\"\"\n",
    "    # counts: array of shape (K,)\n",
    "    total = counts.sum()\n",
    "    if total == 0:\n",
    "        return 0.0\n",
    "    p = counts / total\n",
    "    return 1.0 - np.sum(p * p)\n",
    "\n",
    "def entropy(counts):\n",
    "    \"\"\" Calculate Entropy\n",
    "    \n",
    "        Args:\n",
    "            counts: The number of samples in each class.\n",
    "    \"\"\"\n",
    "    p = counts/counts.sum()\n",
    "    p = p[p > 0]   # avoid log(0)\n",
    "    return -np.sum(p * np.log2(p))\n"
   ]
  },
  {
   "cell_type": "code",
   "execution_count": 22,
   "id": "f47c1933",
   "metadata": {},
   "outputs": [
    {
     "data": {
      "text/plain": [
       "(np.float64(7.0), np.float64(0.30000000000000004))"
      ]
     },
     "execution_count": 22,
     "metadata": {},
     "output_type": "execute_result"
    }
   ],
   "source": [
    "def best_split_one_feature(x, y):   # Assuming x is already sorted\n",
    "    x = np.asarray(x)\n",
    "    y = np.asarray(y)\n",
    "\n",
    "    # Encode labels to 0...K-1\n",
    "    classes, y_enc = np.unique(y, return_inverse=True)\n",
    "    K = len(classes)\n",
    "    N = len(x)\n",
    "    if N <= 1:\n",
    "        return None, np.inf  # no split\n",
    "\n",
    "    parent_counts = np.bincount(y_enc, minlength=K)\n",
    "    parent_imp = gini(parent_counts)\n",
    "    \n",
    "    best_t = None\n",
    "    best_after_imp = np.inf  # we minimize weighted impurity after\n",
    "    for i in range(1, N):\n",
    "        # Skip if they are the same\n",
    "        if x[i-1]==x[i]:\n",
    "            continue\n",
    "        t = (x[i-1] + x[i]) / 2   # The threshold is the middle point\n",
    "        \n",
    "        # Compute left/right counts\n",
    "        left_counts = np.bincount(y_enc[x <= t], minlength=K)\n",
    "        right_counts = parent_counts - left_counts\n",
    "\n",
    "        # Total number of samples in each node\n",
    "        n_left = left_counts.sum()\n",
    "        n_right = right_counts.sum()\n",
    "\n",
    "        if n_left==0 or n_right==0:\n",
    "            continue\n",
    "\n",
    "        left_imp = gini(left_counts)\n",
    "        right_imp = gini(right_counts)\n",
    "        weighted_after = (n_left/N) * left_imp + (n_right/N) * right_imp\n",
    "\n",
    "        if weighted_after < best_after_imp:\n",
    "            best_after_imp = weighted_after\n",
    "            best_t = t\n",
    "    \n",
    "    return best_t, best_after_imp\n",
    "\n",
    "\n",
    "\n",
    "x=[1, 3, 5, 6, 8]\n",
    "y=[0, 1, 0, 0, 2]\n",
    "\n",
    "best_split_one_feature(x, y)"
   ]
  }
 ],
 "metadata": {
  "kernelspec": {
   "display_name": ".venv",
   "language": "python",
   "name": "python3"
  },
  "language_info": {
   "codemirror_mode": {
    "name": "ipython",
    "version": 3
   },
   "file_extension": ".py",
   "mimetype": "text/x-python",
   "name": "python",
   "nbconvert_exporter": "python",
   "pygments_lexer": "ipython3",
   "version": "3.12.3"
  }
 },
 "nbformat": 4,
 "nbformat_minor": 5
}

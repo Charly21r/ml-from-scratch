{
 "cells": [
  {
   "cell_type": "code",
   "execution_count": null,
   "id": "e43a772c",
   "metadata": {
    "vscode": {
     "languageId": "plaintext"
    }
   },
   "outputs": [],
   "source": [
    "import numpy as np\n",
    "import math"
   ]
  },
  {
   "cell_type": "code",
   "execution_count": null,
   "id": "cb38749e",
   "metadata": {
    "vscode": {
     "languageId": "plaintext"
    }
   },
   "outputs": [],
   "source": [
    "def gini(counts):\n",
    "    \"\"\" Calculates Gini Impurity \n",
    "    \n",
    "        Args:\n",
    "            counts: The number of samples in each class.\n",
    "    \"\"\"\n",
    "    # counts: array of shape (K,)\n",
    "    total = counts.sum()\n",
    "    if total == 0:\n",
    "        return 0.0\n",
    "    p = counts / total\n",
    "    return 1.0 - np.sum(p * p)\n",
    "\n",
    "def entropy(counts):\n",
    "    \"\"\" Calculate Entropy\n",
    "    \n",
    "        Args:\n",
    "            counts: The number of samples in each class.\n",
    "    \"\"\"\n",
    "    p = counts/counts.sum()\n",
    "    p = p[p > 0]   # avoid log(0)\n",
    "    return -np.sum(p * np.log2(p))\n"
   ]
  }
 ],
 "metadata": {
  "language_info": {
   "name": "python"
  }
 },
 "nbformat": 4,
 "nbformat_minor": 5
}

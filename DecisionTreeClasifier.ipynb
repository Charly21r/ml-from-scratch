{
 "cells": [
  {
   "cell_type": "code",
   "execution_count": 20,
   "id": "e43a772c",
   "metadata": {},
   "outputs": [],
   "source": [
    "import numpy as np\n",
    "import math"
   ]
  },
  {
   "cell_type": "code",
   "execution_count": 21,
   "id": "cb38749e",
   "metadata": {},
   "outputs": [],
   "source": [
    "def gini(counts):\n",
    "    \"\"\" Calculates Gini Impurity \n",
    "    \n",
    "        Args:\n",
    "            counts: The number of samples in each class.\n",
    "    \"\"\"\n",
    "    # counts: array of shape (K,)\n",
    "    total = counts.sum()\n",
    "    if total == 0:\n",
    "        return 0.0\n",
    "    p = counts / total\n",
    "    return 1.0 - np.sum(p * p)\n",
    "\n",
    "def entropy(counts):\n",
    "    \"\"\" Calculate Entropy\n",
    "    \n",
    "        Args:\n",
    "            counts: The number of samples in each class.\n",
    "    \"\"\"\n",
    "    p = counts/counts.sum()\n",
    "    p = p[p > 0]   # avoid log(0)\n",
    "    return -np.sum(p * np.log2(p))\n"
   ]
  },
  {
   "cell_type": "code",
   "execution_count": 24,
   "id": "f47c1933",
   "metadata": {},
   "outputs": [
    {
     "data": {
      "text/plain": [
       "(np.float64(7.0), np.float64(0.30000000000000004))"
      ]
     },
     "execution_count": 24,
     "metadata": {},
     "output_type": "execute_result"
    }
   ],
   "source": [
    "def best_split_one_feature(x, y):\n",
    "    x = np.asarray(x)\n",
    "    y = np.asarray(y)\n",
    "\n",
    "    # Sort by feature to scan thresholds once\n",
    "    order = np.argsort(x, kind=\"mergesort\")\n",
    "    x = x[order]\n",
    "    classes, y_enc = np.unique(y[order], return_inverse=True)   # Encode labels to 0...K-1\n",
    "    K = len(classes)\n",
    "    N = len(x)\n",
    "    if N <= 1:\n",
    "        return None, np.inf  # no split\n",
    "\n",
    "    parent_counts = np.bincount(y_enc, minlength=K)\n",
    "    parent_imp = gini(parent_counts)\n",
    "\n",
    "    # Prefix sums of class counts\n",
    "    prefix = np.zeros((N+1, K), dtype=int)\n",
    "    for i in range(1, N+1):\n",
    "        prefix[i] = prefix[i-1]\n",
    "        prefix[i, y_enc[i-1]] += 1\n",
    "    \n",
    "    best_t = None\n",
    "    best_after_imp = np.inf  # we minimize weighted impurity after\n",
    "\n",
    "    for i in range(1, N):\n",
    "        # Skip if they are the same\n",
    "        if x[i-1]==x[i]:\n",
    "            continue\n",
    "\n",
    "        t = (x[i-1] + x[i]) / 2   # The threshold is the middle point\n",
    "        \n",
    "        n_left = i\n",
    "        n_right = N - i\n",
    "        left_counts = prefix[i]\n",
    "        right_counts = parent_counts - left_counts\n",
    "\n",
    "        if n_left==0 or n_right==0:\n",
    "            continue\n",
    "\n",
    "        left_imp = gini(left_counts)\n",
    "        right_imp = gini(right_counts)\n",
    "        weighted_after = (n_left/N) * left_imp + (n_right/N) * right_imp\n",
    "\n",
    "        if weighted_after < best_after_imp:\n",
    "            best_after_imp = weighted_after\n",
    "            best_t = t\n",
    "    \n",
    "    return best_t, best_after_imp\n",
    "\n",
    "x=[1, 3, 5, 6, 8]\n",
    "y=[0, 1, 0, 0, 2]\n",
    "\n",
    "best_split_one_feature(x, y)"
   ]
  },
  {
   "cell_type": "code",
   "execution_count": 26,
   "id": "f61aef33",
   "metadata": {},
   "outputs": [
    {
     "name": "stdout",
     "output_type": "stream",
     "text": [
      "(1, np.float64(3.5), np.float64(0.0))\n"
     ]
    }
   ],
   "source": [
    "def best_split(X, y):\n",
    "    X = np.asarray(X)\n",
    "    y = np.asarray(y)\n",
    "    N, D = X.shape  # N samples, D features\n",
    "    \n",
    "    best_feat = None\n",
    "    best_t = None\n",
    "    best_imp = np.inf\n",
    "    for i in range(D):\n",
    "        x_i = X[:,i]  # get feature i (column i of the matrix)\n",
    "        t, imp = best_split_one_feature(x_i, y)\n",
    "\n",
    "        if imp < best_imp:\n",
    "            best_imp = imp\n",
    "            best_feat = i\n",
    "            best_t = t\n",
    "    return best_feat, best_t, best_imp\n",
    "\n",
    "\n",
    "X = [\n",
    "    [1, 6],\n",
    "    [2, 4],\n",
    "    [3, 3],\n",
    "    [1, 0]\n",
    "]\n",
    "\n",
    "y = [0, 0, 1, 1]\n",
    "\n",
    "print(best_split(X, y))"
   ]
  },
  {
   "cell_type": "code",
   "execution_count": 27,
   "id": "f9b84b5c",
   "metadata": {},
   "outputs": [],
   "source": [
    "from dataclasses import dataclass\n",
    "from typing import Optional, Tuple, Union, List\n",
    "@dataclass\n",
    "class Node:\n",
    "    feature:Optional[int] = None\n",
    "    threshold: Optional[float] = None\n",
    "    left: Optional[\"Node\"] = None\n",
    "    right: Optional[\"Node\"] = None\n",
    "\n",
    "    # for the leaves\n",
    "    proba: Optional[np.ndarray] = None\n",
    "    label: Optional[int] = None\n",
    "\n",
    "    depth: int = 0\n",
    "    n_samples: int = 0\n",
    "    impurity: float = 0.0\n",
    "\n",
    "    def is_leaf(self) -> bool:\n",
    "        return self.proba is not None"
   ]
  }
 ],
 "metadata": {
  "kernelspec": {
   "display_name": ".venv",
   "language": "python",
   "name": "python3"
  },
  "language_info": {
   "codemirror_mode": {
    "name": "ipython",
    "version": 3
   },
   "file_extension": ".py",
   "mimetype": "text/x-python",
   "name": "python",
   "nbconvert_exporter": "python",
   "pygments_lexer": "ipython3",
   "version": "3.12.3"
  }
 },
 "nbformat": 4,
 "nbformat_minor": 5
}
